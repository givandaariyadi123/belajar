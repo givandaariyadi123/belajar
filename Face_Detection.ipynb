{
  "nbformat": 4,
  "nbformat_minor": 0,
  "metadata": {
    "colab": {
      "name": "Face Detection.ipynb",
      "provenance": [],
      "collapsed_sections": [],
      "authorship_tag": "ABX9TyNPvMQBpl0IXKS5qraovNhc",
      "include_colab_link": true
    },
    "kernelspec": {
      "name": "python3",
      "display_name": "Python 3"
    },
    "language_info": {
      "name": "python"
    }
  },
  "cells": [
    {
      "cell_type": "markdown",
      "metadata": {
        "id": "view-in-github",
        "colab_type": "text"
      },
      "source": [
        "<a href=\"https://colab.research.google.com/github/givandaariyadi123/belajar/blob/main/Face_Detection.ipynb\" target=\"_parent\"><img src=\"https://colab.research.google.com/assets/colab-badge.svg\" alt=\"Open In Colab\"/></a>"
      ]
    },
    {
      "cell_type": "code",
      "execution_count": null,
      "metadata": {
        "id": "mRdlCO9bPRl4"
      },
      "outputs": [],
      "source": [
        "import os\n",
        "from os import listdir\n",
        "from PIL import Image as Img\n",
        "from numpy import asarray\n",
        "from numpy import expand_dims\n",
        "from matplotlib import pyplot\n",
        "from keras.models import load_model\n",
        "import numpy as np\n",
        "import tensorflow as tf\n",
        "import pickle\n",
        "import cv2"
      ]
    },
    {
      "cell_type": "code",
      "source": [
        "HaarCascade = cv2.CascadeClassifier(cv2.samples.findFile(cv2.data.haarcascades + 'haarcascade_frontalface_default.xml'))"
      ],
      "metadata": {
        "id": "wsiv8_hZQJ4G"
      },
      "execution_count": null,
      "outputs": []
    },
    {
      "cell_type": "code",
      "source": [
        "!wget \"https://drive.google.com/uc?export=download&id=1PZ_6Zsy1Vb0s0JmjEmVd8FS99zoMCiN1\""
      ],
      "metadata": {
        "colab": {
          "base_uri": "https://localhost:8080/"
        },
        "id": "Blkg8I8NQKoC",
        "outputId": "ee8c809b-69d9-4773-f613-562d02e792eb"
      },
      "execution_count": null,
      "outputs": [
        {
          "output_type": "stream",
          "name": "stdout",
          "text": [
            "--2021-12-28 18:57:57--  https://drive.google.com/uc?export=download&id=1PZ_6Zsy1Vb0s0JmjEmVd8FS99zoMCiN1\n",
            "Resolving drive.google.com (drive.google.com)... 173.194.210.139, 173.194.210.138, 173.194.210.113, ...\n",
            "Connecting to drive.google.com (drive.google.com)|173.194.210.139|:443... connected.\n",
            "HTTP request sent, awaiting response... 302 Moved Temporarily\n",
            "Location: https://doc-04-4s-docs.googleusercontent.com/docs/securesc/ha0ro937gcuc7l7deffksulhg5h7mbp1/1krarsi1hrs998kfnr725stkgdhpm87n/1640717850000/09379222848295305915/*/1PZ_6Zsy1Vb0s0JmjEmVd8FS99zoMCiN1?e=download [following]\n",
            "Warning: wildcards not supported in HTTP.\n",
            "--2021-12-28 18:58:00--  https://doc-04-4s-docs.googleusercontent.com/docs/securesc/ha0ro937gcuc7l7deffksulhg5h7mbp1/1krarsi1hrs998kfnr725stkgdhpm87n/1640717850000/09379222848295305915/*/1PZ_6Zsy1Vb0s0JmjEmVd8FS99zoMCiN1?e=download\n",
            "Resolving doc-04-4s-docs.googleusercontent.com (doc-04-4s-docs.googleusercontent.com)... 142.251.107.132, 2607:f8b0:400c:c32::84\n",
            "Connecting to doc-04-4s-docs.googleusercontent.com (doc-04-4s-docs.googleusercontent.com)|142.251.107.132|:443... connected.\n",
            "HTTP request sent, awaiting response... 200 OK\n",
            "Length: 92397640 (88M) [application/octet-stream]\n",
            "Saving to: ‘uc?export=download&id=1PZ_6Zsy1Vb0s0JmjEmVd8FS99zoMCiN1’\n",
            "\n",
            "uc?export=download& 100%[===================>]  88.12M   274MB/s    in 0.3s    \n",
            "\n",
            "2021-12-28 18:58:01 (274 MB/s) - ‘uc?export=download&id=1PZ_6Zsy1Vb0s0JmjEmVd8FS99zoMCiN1’ saved [92397640/92397640]\n",
            "\n"
          ]
        }
      ]
    },
    {
      "cell_type": "code",
      "source": [
        "MyFaceNet = load_model(\"facenet_keras.h5\")"
      ],
      "metadata": {
        "colab": {
          "base_uri": "https://localhost:8080/"
        },
        "id": "h6xgLbF2QtNO",
        "outputId": "33e29346-7445-4fbd-8cfe-25998d6d258a"
      },
      "execution_count": null,
      "outputs": [
        {
          "output_type": "stream",
          "name": "stdout",
          "text": [
            "WARNING:tensorflow:No training configuration found in the save file, so the model was *not* compiled. Compile it manually.\n"
          ]
        }
      ]
    },
    {
      "cell_type": "code",
      "source": [
        "folder = 'listfoto/'"
      ],
      "metadata": {
        "id": "O2m2P8ILQtgZ"
      },
      "execution_count": null,
      "outputs": []
    },
    {
      "cell_type": "code",
      "source": [
        "#library untuk membaca isi folder \n",
        "database = {}\n",
        "for filename in listdir(folder):\n",
        "    path = folder + filename\n",
        "    gbr1 = cv2.imread(folder + filename)\n",
        "    wajah = HaarCascade.detectMultiScale(gbr1,1.1,4)\n",
        "    if len(wajah)>0:\n",
        "        x1, y1, width, height = wajah[0]         \n",
        "    else:\n",
        "        x1, y1, width, height = 1, 1, 10, 10\n",
        "    x1, y1 = abs(x1), abs(y1)\n",
        "    x2, y2 = x1 + width, y1 + height\n",
        "    gbr = cv2.cvtColor(gbr1, cv2.COLOR_BGR2RGB)\n",
        "    gbr = Img.fromarray(gbr)        \n",
        "    gbr_array = asarray(gbr)\n",
        "    face = gbr_array[y1:y2, x1:x2]                        \n",
        "    face = Img.fromarray(face)                       \n",
        "    face = face.resize((160,160))\n",
        "    face = asarray(face)\n",
        "    face = face.astype('float32')\n",
        "    mean, std = face.mean(), face.std()\n",
        "    face = (face - mean) / std\n",
        "    face = expand_dims(face, axis=0)\n",
        "    signature = MyFaceNet.predict(face)\n",
        "    database[os.path.splitext(filename)[0]]=signature"
      ],
      "metadata": {
        "id": "QrwEogR7R9wA"
      },
      "execution_count": null,
      "outputs": []
    },
    {
      "cell_type": "code",
      "source": [
        "myfile = open(\"data.givan\", \"wb\")\n",
        "pickle.dump(database, myfile)\n",
        "myfile.close()\n",
        "\n",
        "myfile = open(\"data.givan\", \"rb\")\n",
        "database = pickle.load(myfile)\n",
        "myfile.close()"
      ],
      "metadata": {
        "id": "M2Cs-5rkR-SH"
      },
      "execution_count": null,
      "outputs": []
    },
    {
      "cell_type": "code",
      "source": [
        "#library fungsi mengubah javascript menjadi gambar\n",
        "def js_to_image(js_reply):\n",
        "  image_bytes = b64decode(js_reply.split(',')[1])\n",
        "  jpg_as_np = np.frombuffer(image_bytes, dtype=np.uint8)\n",
        "  img = cv2.imdecode(jpg_as_np, flags=1)\n",
        "  return img"
      ],
      "metadata": {
        "id": "oaiN1GRZTb1E"
      },
      "execution_count": null,
      "outputs": []
    },
    {
      "cell_type": "code",
      "source": [
        "#library fungsi face detection\n",
        "def findFaces(data):\n",
        "  gbr1 = js_to_image(data)\n",
        "  gbr = cv2.cvtColor(gbr1, cv2.COLOR_BGR2RGB)\n",
        "  gbr = Img.fromarray(gbr)                  # konversi dari OpenCV ke PIL\n",
        "  gbr_array = asarray(gbr)\n",
        "  wajah = HaarCascade.detectMultiScale(gbr1,1.1,4)\n",
        "  for (x1,y1,w,h) in wajah:\n",
        "      x1, y1 = abs(x1), abs(y1)\n",
        "      x2, y2 = x1 + w, y1 + h\n",
        "      face = gbr_array[y1:y2, x1:x2]                        \n",
        "      face = Img.fromarray(face)                       \n",
        "      face = face.resize((160,160))\n",
        "      face = asarray(face)\n",
        "      face = face.astype('float32')\n",
        "      mean, std = face.mean(), face.std()\n",
        "      face = (face - mean) / std\n",
        "      face = expand_dims(face, axis=0)\n",
        "      signature = MyFaceNet.predict(face)\n",
        "      min_dist=100\n",
        "      identity=' '\n",
        "      for key, value in database.items() :\n",
        "        dist = np.linalg.norm(value-signature)\n",
        "        if dist < min_dist:\n",
        "          min_dist = dist\n",
        "          identity = key\n",
        "      cv2.putText(gbr1,identity, (x1,y1),cv2.FONT_HERSHEY_SIMPLEX, 0.5, (255, 255, 0), 1, cv2.LINE_AA)\n",
        "      cv2.rectangle(gbr1,(x1,y1),(x2,y2), (0,255,0), 2)\n",
        "  filename='photo.jpg'\n",
        "  cv2.imwrite(filename, gbr1)\n",
        "  return filename"
      ],
      "metadata": {
        "id": "UEx-6118T41Z"
      },
      "execution_count": null,
      "outputs": []
    },
    {
      "cell_type": "code",
      "source": [
        "from IPython.display import display, Javascript\n",
        "from google.colab.output import eval_js\n",
        "from base64 import b64decode\n",
        "\n",
        "def take_photo(filename='photo.jpg', quality=0.8):\n",
        "  js = Javascript('''\n",
        "    async function takePhoto(quality) {\n",
        "      const div = document.createElement('div');\n",
        "      const capture = document.createElement('button');\n",
        "      capture.textContent = 'Capture';\n",
        "      div.appendChild(capture);\n",
        "\n",
        "      const video = document.createElement('video');\n",
        "      video.style.display = 'block';\n",
        "      const stream = await navigator.mediaDevices.getUserMedia({video: true});\n",
        "\n",
        "      document.body.appendChild(div);\n",
        "      div.appendChild(video);\n",
        "      video.srcObject = stream;\n",
        "      await video.play();\n",
        "\n",
        "      // Resize the output to fit the video element.\n",
        "      google.colab.output.setIframeHeight(document.documentElement.scrollHeight, true);\n",
        "\n",
        "      // Wait for Capture to be clicked.\n",
        "      await new Promise((resolve) => capture.onclick = resolve);\n",
        "\n",
        "      const canvas = document.createElement('canvas');\n",
        "      canvas.width = video.videoWidth;\n",
        "      canvas.height = video.videoHeight;\n",
        "      canvas.getContext('2d').drawImage(video, 0, 0);\n",
        "      stream.getVideoTracks()[0].stop();\n",
        "      div.remove();\n",
        "      return canvas.toDataURL('image/jpeg', quality);\n",
        "    }\n",
        "    ''')\n",
        "  display(js)\n",
        "  data = eval_js('takePhoto({})'.format(quality))\n",
        "  filename=findFaces(data)\n",
        "  return filename"
      ],
      "metadata": {
        "id": "4TFfa1okT5A6"
      },
      "execution_count": null,
      "outputs": []
    },
    {
      "cell_type": "code",
      "source": [
        "from IPython.display import Image\n",
        "try:\n",
        "  filename = take_photo()\n",
        "  print('Saved to {}'.format(filename))\n",
        "  \n",
        "  # Show the image which was just taken.\n",
        "  display(Image(filename))\n",
        "except Exception as err:\n",
        "  # Errors will be thrown if the user does not have a webcam or if they do not\n",
        "  # grant the page permission to access it.\n",
        "  print(str(err))"
      ],
      "metadata": {
        "colab": {
          "base_uri": "https://localhost:8080/",
          "height": 515
        },
        "id": "CUcnJB3KUmvm",
        "outputId": "a312aecd-bffb-4c5b-aa1d-a3584ac51a8c"
      },
      "execution_count": null,
      "outputs": [
        {
          "output_type": "display_data",
          "data": {
            "application/javascript": [
              "\n",
              "    async function takePhoto(quality) {\n",
              "      const div = document.createElement('div');\n",
              "      const capture = document.createElement('button');\n",
              "      capture.textContent = 'Capture';\n",
              "      div.appendChild(capture);\n",
              "\n",
              "      const video = document.createElement('video');\n",
              "      video.style.display = 'block';\n",
              "      const stream = await navigator.mediaDevices.getUserMedia({video: true});\n",
              "\n",
              "      document.body.appendChild(div);\n",
              "      div.appendChild(video);\n",
              "      video.srcObject = stream;\n",
              "      await video.play();\n",
              "\n",
              "      // Resize the output to fit the video element.\n",
              "      google.colab.output.setIframeHeight(document.documentElement.scrollHeight, true);\n",
              "\n",
              "      // Wait for Capture to be clicked.\n",
              "      await new Promise((resolve) => capture.onclick = resolve);\n",
              "\n",
              "      const canvas = document.createElement('canvas');\n",
              "      canvas.width = video.videoWidth;\n",
              "      canvas.height = video.videoHeight;\n",
              "      canvas.getContext('2d').drawImage(video, 0, 0);\n",
              "      stream.getVideoTracks()[0].stop();\n",
              "      div.remove();\n",
              "      return canvas.toDataURL('image/jpeg', quality);\n",
              "    }\n",
              "    "
            ],
            "text/plain": [
              "<IPython.core.display.Javascript object>"
            ]
          },
          "metadata": {}
        },
        {
          "output_type": "stream",
          "name": "stdout",
          "text": [
            "Saved to photo.jpg\n"
          ]
        },
        {
          "output_type": "display_data",
          "data": {
            "image/jpeg": "[encoded data removed]",
            "text/plain": [
              "<IPython.core.display.Image object>"
            ]
          },
          "metadata": {}
        }
      ]
    },
    {
      "cell_type": "code",
      "source": [
        ""
      ],
      "metadata": {
        "id": "nNDPijEwUmvr"
      },
      "execution_count": null,
      "outputs": []
    }
  ]
}